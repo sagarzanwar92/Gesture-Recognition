{
 "cells": [
  {
   "cell_type": "markdown",
   "metadata": {},
   "source": [
    "# Gesture Recognition\n",
    "In this group project, you are going to build a 3D Conv model that will be able to predict the 5 gestures correctly. Please import the following libraries to get started. Once you have completed the code you can download the notebook for making a submission."
   ]
  },
  {
   "cell_type": "code",
   "execution_count": 38,
   "metadata": {},
   "outputs": [],
   "source": [
    "import numpy as np\n",
    "import os\n",
    "from imageio import imread\n",
    "from skimage.transform import resize\n",
    "import datetime\n",
    "import os"
   ]
  },
  {
   "cell_type": "markdown",
   "metadata": {},
   "source": [
    "We set the random seed so that the results don't vary drastically."
   ]
  },
  {
   "cell_type": "code",
   "execution_count": 39,
   "metadata": {},
   "outputs": [],
   "source": [
    "np.random.seed(30)\n",
    "import random as rn\n",
    "rn.seed(30)\n",
    "from tensorflow import keras\n",
    "import tensorflow as tf\n",
    "tf.random.set_seed(30)\n",
    "\n",
    "import keras\n",
    "from keras.preprocessing.image import ImageDataGenerator \n",
    "\n",
    "import matplotlib.pyplot as plt\n",
    "import seaborn as sns\n",
    "\n",
    "import warnings\n",
    "warnings.filterwarnings(\"ignore\")"
   ]
  },
  {
   "cell_type": "code",
   "execution_count": 40,
   "metadata": {},
   "outputs": [],
   "source": [
    "from tensorflow.keras.models import Sequential\n",
    "from tensorflow.keras.layers import Dense, GRU, Dropout, Flatten, BatchNormalization, Activation, Conv3D, MaxPooling3D\n",
    "from tensorflow.keras.callbacks import ModelCheckpoint, ReduceLROnPlateau\n",
    "from tensorflow.keras import optimizers"
   ]
  },
  {
   "cell_type": "markdown",
   "metadata": {},
   "source": [
    "In this block, you read the folder names for training and validation. You also set the `batch_size` here. Note that you set the batch size in such a way that you are able to use the GPU in full capacity. You keep increasing the batch size until the machine throws an error."
   ]
  },
  {
   "cell_type": "markdown",
   "metadata": {},
   "source": [
    "**data path: /home/datasets/Project_data**"
   ]
  },
  {
   "cell_type": "code",
   "execution_count": 41,
   "metadata": {},
   "outputs": [],
   "source": [
    "train_doc = np.random.permutation(open('/home/datasets/Project_data/train.csv').readlines())\n",
    "val_doc = np.random.permutation(open('/home/datasets/Project_data/val.csv').readlines())\n",
    "batch_size = 30 #experiment with the batch size"
   ]
  },
  {
   "cell_type": "code",
   "execution_count": 42,
   "metadata": {},
   "outputs": [
    {
     "name": "stdout",
     "output_type": "stream",
     "text": [
      "663\n",
      "100\n"
     ]
    }
   ],
   "source": [
    "print(len(train_doc))\n",
    "print(len(val_doc))"
   ]
  },
  {
   "cell_type": "markdown",
   "metadata": {},
   "source": [
    "## Generator\n",
    "This is one of the most important part of the code. The overall structure of the generator has been given. In the generator, you are going to preprocess the images as you have images of 2 different dimensions as well as create a batch of video frames. You have to experiment with `img_idx`, `y`,`z` and normalization such that you get high accuracy."
   ]
  },
  {
   "cell_type": "code",
   "execution_count": 43,
   "metadata": {},
   "outputs": [],
   "source": [
    "x = 30\n",
    "y = 120\n",
    "z = 120"
   ]
  },
  {
   "cell_type": "code",
   "execution_count": 44,
   "metadata": {},
   "outputs": [],
   "source": [
    "def generator(source_path, folder_list, batch_size):\n",
    "    print( 'Source path = ', source_path, '; batch size =', batch_size)\n",
    "    img_idx = [x for x in range(0,x)] #create a list of image numbers you want to use for a particular video\n",
    "    while True:\n",
    "        t = np.random.permutation(folder_list)\n",
    "        num_batches = len(folder_list)//batch_size # calculate the number of batches\n",
    "        for batch in range(num_batches): # we iterate over the number of batches\n",
    "            batch_data = np.zeros((batch_size,x,y,z,3)) # x is the number of images you use for each video, (y,z) is the final size of the input images and 3 is the number of channels RGB\n",
    "            batch_labels = np.zeros((batch_size,5)) # batch_labels is the one hot representation of the output\n",
    "            for folder in range(batch_size): # iterate over the batch_size\n",
    "                imgs = os.listdir(source_path+'/'+ t[folder + (batch*batch_size)].split(';')[0]) # read all the images in the folder\n",
    "                for idx,item in enumerate(img_idx): #  Iterate iver the frames/images of a folder to read them in\n",
    "                    image = imread(source_path+'/'+ t[folder + (batch*batch_size)].strip().split(';')[0]+'/'+imgs[item]).astype(np.float32)\n",
    "                    \n",
    "                    #crop the images and resize them. Note that the images are of 2 different shape \n",
    "                    #and the conv3D will throw error if the inputs in a batch have different shapes\n",
    "                    resized = resize(image,(y,z))\n",
    "                    \n",
    "                    norm = resized/127.5-1 #Normalize data\n",
    "                          \n",
    "                    batch_data[folder,idx,:,:,0] = (norm[:,:,0]) #normalise and feed in the image\n",
    "                    batch_data[folder,idx,:,:,1] = (norm[:,:,1]) #normalise and feed in the image\n",
    "                    batch_data[folder,idx,:,:,2] = (norm[:,:,2]) #normalise and feed in the image\n",
    "                    \n",
    "                batch_labels[folder, int(t[folder + (batch*batch_size)].strip().split(';')[2])] = 1\n",
    "            yield batch_data, batch_labels #you yield the batch_data and the batch_labels, remember what does yield do\n",
    "\n",
    "        \n",
    "        # write the code for the remaining data points which are left after full batches\n",
    "        if (len(folder_list) != batch_size*num_batches):\n",
    "            print(\"Batch: \",num_batches+1,\"Index:\", batch_size)\n",
    "            batch_size = len(folder_list) - (batch_size*num_batches)\n",
    "            batch_data = np.zeros((batch_size,x,y,z,3)) # x is the number of images you use for each video, (y,z) is the final size of the input images and 3 is the number of channels RGB\n",
    "            batch_labels = np.zeros((batch_size,5)) # batch_labels is the one hot representation of the output\n",
    "            for folder in range(batch_size): # iterate over the batch_size\n",
    "                imgs = os.listdir(source_path+'/'+ t[folder + (batch*batch_size)].split(';')[0]) # read all the images in the folder\n",
    "                for idx,item in enumerate(img_idx): #  Iterate iver the frames/images of a folder to read them in\n",
    "                    image = imread(source_path+'/'+ t[folder + (batch*batch_size)].strip().split(';')[0]+'/'+imgs[item]).astype(np.float32)\n",
    "                    \n",
    "                    #crop the images and resize them. Note that the images are of 2 different shape \n",
    "                    #and the conv3D will throw error if the inputs in a batch have different shapes\n",
    "                    resized = resize(image,(y,z))\n",
    "                    \n",
    "                    norm = resized/127.5-1 #Normalize data\n",
    "                    \n",
    "                    batch_data[folder,idx,:,:,0] = (norm[:,:,0]) #normalise and feed in the image\n",
    "                    batch_data[folder,idx,:,:,1] = (norm[:,:,1]) #normalise and feed in the image\n",
    "                    batch_data[folder,idx,:,:,2] = (norm[:,:,2]) #normalise and feed in the image\n",
    "                   \n",
    "                batch_labels[folder, int(t[folder + (batch*batch_size)].strip().split(';')[2])] = 1\n",
    "\n",
    "            yield batch_data, batch_labels"
   ]
  },
  {
   "cell_type": "markdown",
   "metadata": {},
   "source": [
    "Note here that a video is represented above in the generator as (number of images, height, width, number of channels). Take this into consideration while creating the model architecture."
   ]
  },
  {
   "cell_type": "code",
   "execution_count": 45,
   "metadata": {},
   "outputs": [
    {
     "name": "stdout",
     "output_type": "stream",
     "text": [
      "# training sequences = 663\n",
      "# validation sequences = 100\n",
      "# epochs = 10\n"
     ]
    }
   ],
   "source": [
    "curr_dt_time = datetime.datetime.now()\n",
    "train_path = '/home/datasets/Project_data/train'\n",
    "val_path = '/home/datasets/Project_data/val'\n",
    "num_train_sequences = len(train_doc)\n",
    "print('# training sequences =', num_train_sequences)\n",
    "num_val_sequences = len(val_doc)\n",
    "print('# validation sequences =', num_val_sequences)\n",
    "num_epochs = 10 # choose the number of epochs\n",
    "print ('# epochs =', num_epochs)"
   ]
  },
  {
   "cell_type": "code",
   "execution_count": 46,
   "metadata": {},
   "outputs": [],
   "source": [
    "def plot(history):\n",
    "    fig, axes = plt.subplots(nrows=1, ncols=2, figsize=(15,4))\n",
    "    axes[0].plot(history.history['loss'])   \n",
    "    axes[0].plot(history.history['val_loss'])\n",
    "    axes[0].legend(['loss','val_loss'])\n",
    "\n",
    "    axes[1].plot(history.history['categorical_accuracy'])   \n",
    "    axes[1].plot(history.history['val_categorical_accuracy'])\n",
    "    axes[1].legend(['categorical_accuracy','val_categorical_accuracy'])"
   ]
  },
  {
   "cell_type": "markdown",
   "metadata": {},
   "source": [
    "___\n",
    "## Model Method 1: 3D Convolution"
   ]
  },
  {
   "cell_type": "markdown",
   "metadata": {},
   "source": [
    "## Model 1\n",
    "Here you make the model using different functionalities that Keras provides. Remember to use `Conv3D` and `MaxPooling3D` and not `Conv2D` and `Maxpooling2D` for a 3D convolution model. You would want to use `TimeDistributed` while building a Conv2D + RNN model. Also remember that the last layer is the softmax. Design the network in such a way that the model is able to give good accuracy on the least number of parameters so that it can fit in the memory of the webcam."
   ]
  },
  {
   "cell_type": "code",
   "execution_count": 9,
   "metadata": {},
   "outputs": [
    {
     "name": "stderr",
     "output_type": "stream",
     "text": [
      "2022-11-17 15:12:53.020547: W tensorflow/core/common_runtime/gpu/gpu_bfc_allocator.cc:39] Overriding allow_growth setting because the TF_FORCE_GPU_ALLOW_GROWTH environment variable is set. Original config value was 0.\n",
      "2022-11-17 15:12:53.020604: I tensorflow/core/common_runtime/gpu/gpu_device.cc:1525] Created device /job:localhost/replica:0/task:0/device:GPU:0 with 14802 MB memory:  -> device: 0, name: Quadro RTX 5000, pci bus id: 0000:3d:00.0, compute capability: 7.5\n"
     ]
    }
   ],
   "source": [
    "# from tensorflow.keras.models import Sequential\n",
    "# from tensorflow.keras.layers import Dense, GRU, Dropout, Flatten, BatchNormalization, Activation, Conv3D, MaxPooling3D\n",
    "# from tensorflow.keras.callbacks import ModelCheckpoint, ReduceLROnPlateau\n",
    "# from tensorflow.keras import optimizers\n",
    "\n",
    "#write your model here\n",
    "\n",
    "model = Sequential()\n",
    "\n",
    "model.add(Conv3D(32, kernel_size = (3,3,3),padding='same', input_shape=(30,120,120,3)))\n",
    "model.add(BatchNormalization())\n",
    "model.add(Activation(\"relu\"))\n",
    "model.add(MaxPooling3D(pool_size=(2, 2, 2)))\n",
    "\n",
    "model.add(Conv3D(64, kernel_size = (3,3,3),padding='same'))\n",
    "model.add(BatchNormalization())\n",
    "model.add(Activation(\"relu\"))\n",
    "model.add(MaxPooling3D(pool_size=(2, 2, 2)))\n",
    "\n",
    "model.add(Conv3D(128, kernel_size = (3,3,3),padding='same'))\n",
    "model.add(BatchNormalization())\n",
    "model.add(Activation(\"relu\"))\n",
    "model.add(MaxPooling3D(pool_size=(2, 2, 2)))\n",
    "model.add(Dropout(0.2))\n",
    "\n",
    "model.add(Flatten())\n",
    "\n",
    "model.add(Dense(1000, activation='relu'))\n",
    "model.add(Dropout(0.2))\n",
    "\n",
    "model.add(Dense(500, activation='relu'))\n",
    "model.add(Dropout(0.2))\n",
    "\n",
    "# 5 gestures 5 classes\n",
    "model.add(Dense(5, activation = 'softmax'))"
   ]
  },
  {
   "cell_type": "markdown",
   "metadata": {},
   "source": [
    "Now that you have written the model, the next step is to `compile` the model. When you print the `summary` of the model, you'll see the total number of parameters you have to train."
   ]
  },
  {
   "cell_type": "code",
   "execution_count": 10,
   "metadata": {
    "scrolled": true
   },
   "outputs": [
    {
     "name": "stdout",
     "output_type": "stream",
     "text": [
      "Model: \"sequential\"\n",
      "_________________________________________________________________\n",
      " Layer (type)                Output Shape              Param #   \n",
      "=================================================================\n",
      " conv3d (Conv3D)             (None, 30, 120, 120, 32)  2624      \n",
      "                                                                 \n",
      " batch_normalization (BatchN  (None, 30, 120, 120, 32)  128      \n",
      " ormalization)                                                   \n",
      "                                                                 \n",
      " activation (Activation)     (None, 30, 120, 120, 32)  0         \n",
      "                                                                 \n",
      " max_pooling3d (MaxPooling3D  (None, 15, 60, 60, 32)   0         \n",
      " )                                                               \n",
      "                                                                 \n",
      " conv3d_1 (Conv3D)           (None, 15, 60, 60, 64)    55360     \n",
      "                                                                 \n",
      " batch_normalization_1 (Batc  (None, 15, 60, 60, 64)   256       \n",
      " hNormalization)                                                 \n",
      "                                                                 \n",
      " activation_1 (Activation)   (None, 15, 60, 60, 64)    0         \n",
      "                                                                 \n",
      " max_pooling3d_1 (MaxPooling  (None, 7, 30, 30, 64)    0         \n",
      " 3D)                                                             \n",
      "                                                                 \n",
      " conv3d_2 (Conv3D)           (None, 7, 30, 30, 128)    221312    \n",
      "                                                                 \n",
      " batch_normalization_2 (Batc  (None, 7, 30, 30, 128)   512       \n",
      " hNormalization)                                                 \n",
      "                                                                 \n",
      " activation_2 (Activation)   (None, 7, 30, 30, 128)    0         \n",
      "                                                                 \n",
      " max_pooling3d_2 (MaxPooling  (None, 3, 15, 15, 128)   0         \n",
      " 3D)                                                             \n",
      "                                                                 \n",
      " dropout (Dropout)           (None, 3, 15, 15, 128)    0         \n",
      "                                                                 \n",
      " flatten (Flatten)           (None, 86400)             0         \n",
      "                                                                 \n",
      " dense (Dense)               (None, 1000)              86401000  \n",
      "                                                                 \n",
      " dropout_1 (Dropout)         (None, 1000)              0         \n",
      "                                                                 \n",
      " dense_1 (Dense)             (None, 500)               500500    \n",
      "                                                                 \n",
      " dropout_2 (Dropout)         (None, 500)               0         \n",
      "                                                                 \n",
      " dense_2 (Dense)             (None, 5)                 2505      \n",
      "                                                                 \n",
      "=================================================================\n",
      "Total params: 87,184,197\n",
      "Trainable params: 87,183,749\n",
      "Non-trainable params: 448\n",
      "_________________________________________________________________\n",
      "None\n"
     ]
    }
   ],
   "source": [
    "optimiser = optimizers.Adam(lr = 0.001) #write your optimizer\n",
    "model.compile(optimizer=optimiser, loss='categorical_crossentropy', metrics=['categorical_accuracy'])\n",
    "print (model.summary())"
   ]
  },
  {
   "cell_type": "markdown",
   "metadata": {},
   "source": [
    "Let us create the `train_generator` and the `val_generator` which will be used in `.fit_generator`."
   ]
  },
  {
   "cell_type": "code",
   "execution_count": 11,
   "metadata": {},
   "outputs": [],
   "source": [
    "train_generator = generator(train_path, train_doc, batch_size)\n",
    "val_generator = generator(val_path, val_doc, batch_size)"
   ]
  },
  {
   "cell_type": "code",
   "execution_count": 12,
   "metadata": {},
   "outputs": [],
   "source": [
    "model_name = 'model_init' + '_' + str(curr_dt_time).replace(' ','').replace(':','_') + '/'\n",
    "    \n",
    "if not os.path.exists(model_name):\n",
    "    os.mkdir(model_name)\n",
    "        \n",
    "filepath = model_name + 'model-{epoch:05d}-{loss:.5f}-{categorical_accuracy:.5f}-{val_loss:.5f}-{val_categorical_accuracy:.5f}.h5'\n",
    "\n",
    "checkpoint = ModelCheckpoint(filepath, monitor='val_loss', verbose=1, save_best_only=True, save_weights_only=False, mode='auto',save_freq = \"epoch\")\n",
    "\n",
    "LR = ReduceLROnPlateau(monitor='val_loss', factor=0.5, patience=2, cooldown=1, verbose=1) # write the REducelronplateau code here\n",
    "callbacks_list = [checkpoint, LR]\n"
   ]
  },
  {
   "cell_type": "markdown",
   "metadata": {},
   "source": [
    "The `steps_per_epoch` and `validation_steps` are used by `fit` method to decide the number of next() calls it need to make."
   ]
  },
  {
   "cell_type": "code",
   "execution_count": 13,
   "metadata": {},
   "outputs": [],
   "source": [
    "if (num_train_sequences%batch_size) == 0:\n",
    "    steps_per_epoch = int(num_train_sequences/batch_size)\n",
    "else:\n",
    "    steps_per_epoch = (num_train_sequences//batch_size) + 1\n",
    "\n",
    "if (num_val_sequences%batch_size) == 0:\n",
    "    validation_steps = int(num_val_sequences/batch_size)\n",
    "else:\n",
    "    validation_steps = (num_val_sequences//batch_size) + 1"
   ]
  },
  {
   "cell_type": "markdown",
   "metadata": {},
   "source": [
    "Let us now fit the model. This will start training the model and with the help of the checkpoints, you'll be able to save the model at the end of each epoch."
   ]
  },
  {
   "cell_type": "code",
   "execution_count": 14,
   "metadata": {},
   "outputs": [
    {
     "name": "stdout",
     "output_type": "stream",
     "text": [
      "Source path =  /home/datasets/Project_data/train ; batch size = 30\n",
      "Epoch 1/10\n"
     ]
    },
    {
     "name": "stderr",
     "output_type": "stream",
     "text": [
      "2022-11-17 15:13:05.708408: I tensorflow/stream_executor/cuda/cuda_dnn.cc:377] Loaded cuDNN version 8302\n"
     ]
    },
    {
     "name": "stdout",
     "output_type": "stream",
     "text": [
      "21/23 [==========================>...] - ETA: 11s - loss: 61.9296 - categorical_accuracy: 0.2921Batch:  23 Index: 30\n",
      "23/23 [==============================] - ETA: 0s - loss: 59.7762 - categorical_accuracy: 0.2926Source path =  /home/datasets/Project_data/val ; batch size = 30\n",
      "Batch:  4 Index: 30\n",
      "\n",
      "Epoch 00001: val_loss improved from inf to 48.71748, saving model to model_init_2022-11-1715_12_50.014709/model-00001-59.77623-0.29261-48.71748-0.20000.h5\n",
      "23/23 [==============================] - 162s 7s/step - loss: 59.7762 - categorical_accuracy: 0.2926 - val_loss: 48.7175 - val_categorical_accuracy: 0.2000 - lr: 0.0010\n",
      "Epoch 2/10\n",
      "23/23 [==============================] - ETA: 0s - loss: 15.3450 - categorical_accuracy: 0.3333\n",
      "Epoch 00002: val_loss improved from 48.71748 to 14.40798, saving model to model_init_2022-11-1715_12_50.014709/model-00002-15.34501-0.33333-14.40798-0.35000.h5\n",
      "23/23 [==============================] - 26s 1s/step - loss: 15.3450 - categorical_accuracy: 0.3333 - val_loss: 14.4080 - val_categorical_accuracy: 0.3500 - lr: 0.0010\n",
      "Epoch 3/10\n",
      "23/23 [==============================] - ETA: 0s - loss: 10.0279 - categorical_accuracy: 0.2899\n",
      "Epoch 00003: val_loss improved from 14.40798 to 8.35947, saving model to model_init_2022-11-1715_12_50.014709/model-00003-10.02789-0.28986-8.35947-0.25000.h5\n",
      "23/23 [==============================] - 26s 1s/step - loss: 10.0279 - categorical_accuracy: 0.2899 - val_loss: 8.3595 - val_categorical_accuracy: 0.2500 - lr: 0.0010\n",
      "Epoch 4/10\n",
      "23/23 [==============================] - ETA: 0s - loss: 9.4465 - categorical_accuracy: 0.2174\n",
      "Epoch 00004: val_loss improved from 8.35947 to 4.87346, saving model to model_init_2022-11-1715_12_50.014709/model-00004-9.44646-0.21739-4.87346-0.25000.h5\n",
      "23/23 [==============================] - 25s 1s/step - loss: 9.4465 - categorical_accuracy: 0.2174 - val_loss: 4.8735 - val_categorical_accuracy: 0.2500 - lr: 0.0010\n",
      "Epoch 5/10\n",
      "23/23 [==============================] - ETA: 0s - loss: 5.8409 - categorical_accuracy: 0.2899\n",
      "Epoch 00005: val_loss improved from 4.87346 to 2.27270, saving model to model_init_2022-11-1715_12_50.014709/model-00005-5.84092-0.28986-2.27270-0.35000.h5\n",
      "23/23 [==============================] - 28s 1s/step - loss: 5.8409 - categorical_accuracy: 0.2899 - val_loss: 2.2727 - val_categorical_accuracy: 0.3500 - lr: 0.0010\n",
      "Epoch 6/10\n",
      "23/23 [==============================] - ETA: 0s - loss: 3.0268 - categorical_accuracy: 0.4058\n",
      "Epoch 00006: val_loss did not improve from 2.27270\n",
      "23/23 [==============================] - 23s 1s/step - loss: 3.0268 - categorical_accuracy: 0.4058 - val_loss: 4.4386 - val_categorical_accuracy: 0.0750 - lr: 0.0010\n",
      "Epoch 7/10\n",
      "23/23 [==============================] - ETA: 0s - loss: 2.0134 - categorical_accuracy: 0.4928\n",
      "Epoch 00007: val_loss improved from 2.27270 to 2.03065, saving model to model_init_2022-11-1715_12_50.014709/model-00007-2.01337-0.49275-2.03065-0.30000.h5\n",
      "23/23 [==============================] - 24s 1s/step - loss: 2.0134 - categorical_accuracy: 0.4928 - val_loss: 2.0307 - val_categorical_accuracy: 0.3000 - lr: 0.0010\n",
      "Epoch 8/10\n",
      "23/23 [==============================] - ETA: 0s - loss: 1.9527 - categorical_accuracy: 0.4783\n",
      "Epoch 00008: val_loss improved from 2.03065 to 1.78128, saving model to model_init_2022-11-1715_12_50.014709/model-00008-1.95266-0.47826-1.78128-0.45000.h5\n",
      "23/23 [==============================] - 27s 1s/step - loss: 1.9527 - categorical_accuracy: 0.4783 - val_loss: 1.7813 - val_categorical_accuracy: 0.4500 - lr: 0.0010\n",
      "Epoch 9/10\n",
      "23/23 [==============================] - ETA: 0s - loss: 2.0652 - categorical_accuracy: 0.3623\n",
      "Epoch 00009: val_loss improved from 1.78128 to 1.68138, saving model to model_init_2022-11-1715_12_50.014709/model-00009-2.06521-0.36232-1.68138-0.45000.h5\n",
      "23/23 [==============================] - 25s 1s/step - loss: 2.0652 - categorical_accuracy: 0.3623 - val_loss: 1.6814 - val_categorical_accuracy: 0.4500 - lr: 0.0010\n",
      "Epoch 10/10\n",
      "23/23 [==============================] - ETA: 0s - loss: 1.4887 - categorical_accuracy: 0.5942\n",
      "Epoch 00010: val_loss did not improve from 1.68138\n",
      "23/23 [==============================] - 23s 1s/step - loss: 1.4887 - categorical_accuracy: 0.5942 - val_loss: 2.0758 - val_categorical_accuracy: 0.3500 - lr: 0.0010\n"
     ]
    }
   ],
   "source": [
    "history1 = model.fit(train_generator, steps_per_epoch=steps_per_epoch, epochs=num_epochs, verbose=1, \n",
    "                    callbacks=callbacks_list, validation_data=val_generator, \n",
    "                    validation_steps=validation_steps, class_weight=None, workers=1, initial_epoch=0)"
   ]
  },
  {
   "cell_type": "code",
   "execution_count": 15,
   "metadata": {},
   "outputs": [
    {
     "data": {
      "image/png": "[encoded data removed]",
      "text/plain": [
       "<Figure size 1080x288 with 2 Axes>"
      ]
     },
     "metadata": {
      "needs_background": "light"
     },
     "output_type": "display_data"
    }
   ],
   "source": [
    "plot(history1)"
   ]
  },
  {
   "cell_type": "markdown",
   "metadata": {},
   "source": [
    "#### The Accuracy of the model is bad on both Train and Test; It is underfitting; \n",
    "#### We would need to modify model to get better results\n",
    "___"
   ]
  },
  {
   "cell_type": "markdown",
   "metadata": {},
   "source": [
    "### Model 2:\n",
    "#### Changing the model parameters: Add one more Convolution Layer"
   ]
  },
  {
   "cell_type": "code",
   "execution_count": 16,
   "metadata": {},
   "outputs": [],
   "source": [
    "model2 = Sequential()\n",
    "\n",
    "model2.add(Conv3D(8, kernel_size = (3,3,3),padding='same', input_shape=(30,120,120,3)))\n",
    "model2.add(BatchNormalization())\n",
    "model2.add(Activation(\"relu\"))\n",
    "model2.add(MaxPooling3D(pool_size=(1, 2, 2)))\n",
    "\n",
    "model2.add(Conv3D(32, kernel_size = (3,3,3),padding='same'))\n",
    "model2.add(BatchNormalization())\n",
    "model2.add(Activation(\"relu\"))\n",
    "model2.add(MaxPooling3D(pool_size=(2, 2, 2)))\n",
    "\n",
    "model2.add(Conv3D(64, kernel_size = (3,3,3),padding='same'))\n",
    "model2.add(BatchNormalization())\n",
    "model2.add(Activation(\"relu\"))\n",
    "model2.add(MaxPooling3D(pool_size=(2, 2, 2)))\n",
    "\n",
    "model2.add(Conv3D(128, kernel_size = (3,3,3),padding='same'))\n",
    "model2.add(BatchNormalization())\n",
    "model2.add(Activation(\"relu\"))\n",
    "model2.add(MaxPooling3D(pool_size=(2, 2, 2)))\n",
    "model2.add(Dropout(0.2))\n",
    "\n",
    "model2.add(Flatten())\n",
    "\n",
    "model2.add(Dense(256, activation='relu'))\n",
    "model2.add(Dropout(0.2))\n",
    "\n",
    "# 5 gestures 5 classes\n",
    "model2.add(Dense(5, activation = 'softmax'))"
   ]
  },
  {
   "cell_type": "code",
   "execution_count": 17,
   "metadata": {},
   "outputs": [],
   "source": [
    "train_generator = generator(train_path, train_doc, batch_size)\n",
    "val_generator = generator(val_path, val_doc, batch_size)"
   ]
  },
  {
   "cell_type": "code",
   "execution_count": 18,
   "metadata": {},
   "outputs": [
    {
     "name": "stdout",
     "output_type": "stream",
     "text": [
      "WARNING:tensorflow:`period` argument is deprecated. Please use `save_freq` to specify the frequency in number of batches seen.\n"
     ]
    }
   ],
   "source": [
    "model_name = 'model_init' + '_' + str(curr_dt_time).replace(' ','').replace(':','_') + '/'\n",
    "    \n",
    "if not os.path.exists(model_name):\n",
    "    os.mkdir(model_name)\n",
    "        \n",
    "filepath = model_name + 'model-{epoch:05d}-{loss:.5f}-{categorical_accuracy:.5f}-{val_loss:.5f}-{val_categorical_accuracy:.5f}.h5'\n",
    "\n",
    "checkpoint = ModelCheckpoint(filepath, monitor='val_loss', verbose=1, save_best_only=True, save_weights_only=False, mode='auto', period=1)\n",
    "\n",
    "LR = ReduceLROnPlateau(monitor='val_loss', factor=0.5, patience=2, cooldown=1, verbose=1)# write the REducelronplateau code here\n",
    "callbacks_list = [checkpoint, LR]"
   ]
  },
  {
   "cell_type": "code",
   "execution_count": 19,
   "metadata": {},
   "outputs": [],
   "source": [
    "if (num_train_sequences%batch_size) == 0:\n",
    "    steps_per_epoch = int(num_train_sequences/batch_size)\n",
    "else:\n",
    "    steps_per_epoch = (num_train_sequences//batch_size) + 1\n",
    "\n",
    "if (num_val_sequences%batch_size) == 0:\n",
    "    validation_steps = int(num_val_sequences/batch_size)\n",
    "else:\n",
    "    validation_steps = (num_val_sequences//batch_size) + 1"
   ]
  },
  {
   "cell_type": "code",
   "execution_count": 20,
   "metadata": {},
   "outputs": [
    {
     "name": "stdout",
     "output_type": "stream",
     "text": [
      "Model: \"sequential_1\"\n",
      "_________________________________________________________________\n",
      " Layer (type)                Output Shape              Param #   \n",
      "=================================================================\n",
      " conv3d_3 (Conv3D)           (None, 30, 120, 120, 8)   656       \n",
      "                                                                 \n",
      " batch_normalization_3 (Batc  (None, 30, 120, 120, 8)  32        \n",
      " hNormalization)                                                 \n",
      "                                                                 \n",
      " activation_3 (Activation)   (None, 30, 120, 120, 8)   0         \n",
      "                                                                 \n",
      " max_pooling3d_3 (MaxPooling  (None, 30, 60, 60, 8)    0         \n",
      " 3D)                                                             \n",
      "                                                                 \n",
      " conv3d_4 (Conv3D)           (None, 30, 60, 60, 32)    6944      \n",
      "                                                                 \n",
      " batch_normalization_4 (Batc  (None, 30, 60, 60, 32)   128       \n",
      " hNormalization)                                                 \n",
      "                                                                 \n",
      " activation_4 (Activation)   (None, 30, 60, 60, 32)    0         \n",
      "                                                                 \n",
      " max_pooling3d_4 (MaxPooling  (None, 15, 30, 30, 32)   0         \n",
      " 3D)                                                             \n",
      "                                                                 \n",
      " conv3d_5 (Conv3D)           (None, 15, 30, 30, 64)    55360     \n",
      "                                                                 \n",
      " batch_normalization_5 (Batc  (None, 15, 30, 30, 64)   256       \n",
      " hNormalization)                                                 \n",
      "                                                                 \n",
      " activation_5 (Activation)   (None, 15, 30, 30, 64)    0         \n",
      "                                                                 \n",
      " max_pooling3d_5 (MaxPooling  (None, 7, 15, 15, 64)    0         \n",
      " 3D)                                                             \n",
      "                                                                 \n",
      " conv3d_6 (Conv3D)           (None, 7, 15, 15, 128)    221312    \n",
      "                                                                 \n",
      " batch_normalization_6 (Batc  (None, 7, 15, 15, 128)   512       \n",
      " hNormalization)                                                 \n",
      "                                                                 \n",
      " activation_6 (Activation)   (None, 7, 15, 15, 128)    0         \n",
      "                                                                 \n",
      " max_pooling3d_6 (MaxPooling  (None, 3, 7, 7, 128)     0         \n",
      " 3D)                                                             \n",
      "                                                                 \n",
      " dropout_3 (Dropout)         (None, 3, 7, 7, 128)      0         \n",
      "                                                                 \n",
      " flatten_1 (Flatten)         (None, 18816)             0         \n",
      "                                                                 \n",
      " dense_3 (Dense)             (None, 256)               4817152   \n",
      "                                                                 \n",
      " dropout_4 (Dropout)         (None, 256)               0         \n",
      "                                                                 \n",
      " dense_4 (Dense)             (None, 5)                 1285      \n",
      "                                                                 \n",
      "=================================================================\n",
      "Total params: 5,103,637\n",
      "Trainable params: 5,103,173\n",
      "Non-trainable params: 464\n",
      "_________________________________________________________________\n",
      "None\n"
     ]
    }
   ],
   "source": [
    "optimiser = optimizers.Adam(lr = 0.001) #write your optimizer\n",
    "model2.compile(optimizer=optimiser, loss='categorical_crossentropy', metrics=['categorical_accuracy'])\n",
    "print (model2.summary())"
   ]
  },
  {
   "cell_type": "code",
   "execution_count": 21,
   "metadata": {},
   "outputs": [
    {
     "name": "stdout",
     "output_type": "stream",
     "text": [
      "Source path =  /home/datasets/Project_data/train ; batch size = 30\n",
      "Epoch 1/10\n",
      "21/23 [==========================>...] - ETA: 11s - loss: 11.6776 - categorical_accuracy: 0.3476Batch:  23 Index: 30\n",
      "23/23 [==============================] - ETA: 0s - loss: 11.1973 - categorical_accuracy: 0.3514Source path =  /home/datasets/Project_data/val ; batch size = 30\n",
      "Batch:  4 Index: 30\n",
      "\n",
      "Epoch 00001: val_loss improved from inf to 1.57686, saving model to model_init_2022-11-1715_12_50.014709/model-00001-11.19726-0.35143-1.57686-0.40000.h5\n",
      "23/23 [==============================] - 146s 6s/step - loss: 11.1973 - categorical_accuracy: 0.3514 - val_loss: 1.5769 - val_categorical_accuracy: 0.4000 - lr: 0.0010\n",
      "Epoch 2/10\n",
      "23/23 [==============================] - ETA: 0s - loss: 3.4207 - categorical_accuracy: 0.3478\n",
      "Epoch 00002: val_loss did not improve from 1.57686\n",
      "23/23 [==============================] - 25s 1s/step - loss: 3.4207 - categorical_accuracy: 0.3478 - val_loss: 1.7038 - val_categorical_accuracy: 0.1750 - lr: 0.0010\n",
      "Epoch 3/10\n",
      "23/23 [==============================] - ETA: 0s - loss: 2.2072 - categorical_accuracy: 0.2464\n",
      "Epoch 00003: val_loss did not improve from 1.57686\n",
      "\n",
      "Epoch 00003: ReduceLROnPlateau reducing learning rate to 0.0005000000237487257.\n",
      "23/23 [==============================] - 23s 1s/step - loss: 2.2072 - categorical_accuracy: 0.2464 - val_loss: 1.6306 - val_categorical_accuracy: 0.3000 - lr: 0.0010\n",
      "Epoch 4/10\n",
      "23/23 [==============================] - ETA: 0s - loss: 1.2962 - categorical_accuracy: 0.4058\n",
      "Epoch 00004: val_loss did not improve from 1.57686\n",
      "23/23 [==============================] - 22s 1s/step - loss: 1.2962 - categorical_accuracy: 0.4058 - val_loss: 2.0460 - val_categorical_accuracy: 0.2250 - lr: 5.0000e-04\n",
      "Epoch 5/10\n",
      "23/23 [==============================] - ETA: 0s - loss: 1.1458 - categorical_accuracy: 0.4928\n",
      "Epoch 00005: val_loss did not improve from 1.57686\n",
      "\n",
      "Epoch 00005: ReduceLROnPlateau reducing learning rate to 0.0002500000118743628.\n",
      "23/23 [==============================] - 25s 1s/step - loss: 1.1458 - categorical_accuracy: 0.4928 - val_loss: 1.9630 - val_categorical_accuracy: 0.3000 - lr: 5.0000e-04\n",
      "Epoch 6/10\n",
      "23/23 [==============================] - ETA: 0s - loss: 1.1879 - categorical_accuracy: 0.5072\n",
      "Epoch 00006: val_loss did not improve from 1.57686\n",
      "23/23 [==============================] - 24s 1s/step - loss: 1.1879 - categorical_accuracy: 0.5072 - val_loss: 1.9833 - val_categorical_accuracy: 0.3000 - lr: 2.5000e-04\n",
      "Epoch 7/10\n",
      "23/23 [==============================] - ETA: 0s - loss: 1.1302 - categorical_accuracy: 0.5797\n",
      "Epoch 00007: val_loss did not improve from 1.57686\n",
      "\n",
      "Epoch 00007: ReduceLROnPlateau reducing learning rate to 0.0001250000059371814.\n",
      "23/23 [==============================] - 22s 1s/step - loss: 1.1302 - categorical_accuracy: 0.5797 - val_loss: 1.9247 - val_categorical_accuracy: 0.2750 - lr: 2.5000e-04\n",
      "Epoch 8/10\n",
      "23/23 [==============================] - ETA: 0s - loss: 0.9797 - categorical_accuracy: 0.4928\n",
      "Epoch 00008: val_loss did not improve from 1.57686\n",
      "23/23 [==============================] - 24s 1s/step - loss: 0.9797 - categorical_accuracy: 0.4928 - val_loss: 1.8345 - val_categorical_accuracy: 0.3000 - lr: 1.2500e-04\n",
      "Epoch 9/10\n",
      "23/23 [==============================] - ETA: 0s - loss: 0.8936 - categorical_accuracy: 0.6667\n",
      "Epoch 00009: val_loss did not improve from 1.57686\n",
      "\n",
      "Epoch 00009: ReduceLROnPlateau reducing learning rate to 6.25000029685907e-05.\n",
      "23/23 [==============================] - 25s 1s/step - loss: 0.8936 - categorical_accuracy: 0.6667 - val_loss: 2.0902 - val_categorical_accuracy: 0.3250 - lr: 1.2500e-04\n",
      "Epoch 10/10\n",
      "23/23 [==============================] - ETA: 0s - loss: 1.1293 - categorical_accuracy: 0.5072\n",
      "Epoch 00010: val_loss did not improve from 1.57686\n",
      "23/23 [==============================] - 23s 1s/step - loss: 1.1293 - categorical_accuracy: 0.5072 - val_loss: 1.7928 - val_categorical_accuracy: 0.3500 - lr: 6.2500e-05\n"
     ]
    }
   ],
   "source": [
    "history2 = model2.fit(train_generator, steps_per_epoch=steps_per_epoch, epochs=num_epochs, verbose=1, \n",
    "                    callbacks=callbacks_list, validation_data=val_generator, \n",
    "                    validation_steps=validation_steps, class_weight=None, workers=1, initial_epoch=0)"
   ]
  },
  {
   "cell_type": "code",
   "execution_count": 22,
   "metadata": {},
   "outputs": [
    {
     "data": {
      "image/png": "[encoded data removed]",
      "text/plain": [
       "<Figure size 1080x288 with 2 Axes>"
      ]
     },
     "metadata": {
      "needs_background": "light"
     },
     "output_type": "display_data"
    }
   ],
   "source": [
    "plot(history2)"
   ]
  },
  {
   "cell_type": "markdown",
   "metadata": {},
   "source": [
    "#### Model is now overfitting\n",
    "___"
   ]
  },
  {
   "cell_type": "markdown",
   "metadata": {},
   "source": [
    "### Model 3\n",
    "#### Changing Model Parameters further by reducing number of channels and reducing number of batches "
   ]
  },
  {
   "cell_type": "code",
   "execution_count": 23,
   "metadata": {},
   "outputs": [],
   "source": [
    "model3 = Sequential()\n",
    "\n",
    "model3.add(Conv3D(8, kernel_size = (3,3,3),padding='same', input_shape=(30,120,120,3)))\n",
    "model3.add(BatchNormalization())\n",
    "model3.add(Activation(\"relu\"))\n",
    "model3.add(MaxPooling3D(pool_size=(1, 2, 2)))\n",
    "\n",
    "model3.add(Conv3D(16, kernel_size = (3,3,3),padding='same'))\n",
    "model3.add(BatchNormalization())\n",
    "model3.add(Activation(\"relu\"))\n",
    "model3.add(MaxPooling3D(pool_size=(2, 2, 2)))\n",
    "\n",
    "model3.add(Conv3D(32, kernel_size = (3,3,3),padding='same'))\n",
    "model3.add(BatchNormalization())\n",
    "model3.add(Activation(\"relu\"))\n",
    "model3.add(MaxPooling3D(pool_size=(2, 2, 2)))\n",
    "\n",
    "model3.add(Conv3D(64, kernel_size = (3,3,3),padding='same'))\n",
    "model3.add(BatchNormalization())\n",
    "model3.add(Activation(\"relu\"))\n",
    "model3.add(MaxPooling3D(pool_size=(2, 2, 2)))\n",
    "model3.add(Dropout(0.2))\n",
    "\n",
    "model3.add(Flatten())\n",
    "\n",
    "model3.add(Dense(512, activation='relu'))\n",
    "model3.add(Dropout(0.2))\n",
    "\n",
    "# 5 gestures 5 classes\n",
    "model3.add(Dense(5, activation = 'softmax'))"
   ]
  },
  {
   "cell_type": "code",
   "execution_count": 24,
   "metadata": {},
   "outputs": [],
   "source": [
    "batch_size = 10\n",
    "train_generator = generator(train_path, train_doc, batch_size)\n",
    "val_generator = generator(val_path, val_doc, batch_size)"
   ]
  },
  {
   "cell_type": "code",
   "execution_count": 25,
   "metadata": {},
   "outputs": [
    {
     "name": "stdout",
     "output_type": "stream",
     "text": [
      "WARNING:tensorflow:`period` argument is deprecated. Please use `save_freq` to specify the frequency in number of batches seen.\n"
     ]
    }
   ],
   "source": [
    "model_name = 'model_init' + '_' + str(curr_dt_time).replace(' ','').replace(':','_') + '/'\n",
    "    \n",
    "if not os.path.exists(model_name):\n",
    "    os.mkdir(model_name)\n",
    "        \n",
    "filepath = model_name + 'model-{epoch:05d}-{loss:.5f}-{categorical_accuracy:.5f}-{val_loss:.5f}-{val_categorical_accuracy:.5f}.h5'\n",
    "\n",
    "checkpoint = ModelCheckpoint(filepath, monitor='val_loss', verbose=1, save_best_only=True, save_weights_only=False, mode='auto', period=1)\n",
    "\n",
    "LR = ReduceLROnPlateau(monitor='val_loss', factor=0.5, patience=2, cooldown=1, verbose=1)# write the REducelronplateau code here\n",
    "callbacks_list = [checkpoint, LR]"
   ]
  },
  {
   "cell_type": "code",
   "execution_count": 26,
   "metadata": {},
   "outputs": [],
   "source": [
    "if (num_train_sequences%batch_size) == 0:\n",
    "    steps_per_epoch = int(num_train_sequences/batch_size)\n",
    "else:\n",
    "    steps_per_epoch = (num_train_sequences//batch_size) + 1\n",
    "\n",
    "if (num_val_sequences%batch_size) == 0:\n",
    "    validation_steps = int(num_val_sequences/batch_size)\n",
    "else:\n",
    "    validation_steps = (num_val_sequences//batch_size) + 1"
   ]
  },
  {
   "cell_type": "code",
   "execution_count": 27,
   "metadata": {},
   "outputs": [
    {
     "name": "stdout",
     "output_type": "stream",
     "text": [
      "Model: \"sequential_2\"\n",
      "_________________________________________________________________\n",
      " Layer (type)                Output Shape              Param #   \n",
      "=================================================================\n",
      " conv3d_7 (Conv3D)           (None, 30, 120, 120, 8)   656       \n",
      "                                                                 \n",
      " batch_normalization_7 (Batc  (None, 30, 120, 120, 8)  32        \n",
      " hNormalization)                                                 \n",
      "                                                                 \n",
      " activation_7 (Activation)   (None, 30, 120, 120, 8)   0         \n",
      "                                                                 \n",
      " max_pooling3d_7 (MaxPooling  (None, 30, 60, 60, 8)    0         \n",
      " 3D)                                                             \n",
      "                                                                 \n",
      " conv3d_8 (Conv3D)           (None, 30, 60, 60, 16)    3472      \n",
      "                                                                 \n",
      " batch_normalization_8 (Batc  (None, 30, 60, 60, 16)   64        \n",
      " hNormalization)                                                 \n",
      "                                                                 \n",
      " activation_8 (Activation)   (None, 30, 60, 60, 16)    0         \n",
      "                                                                 \n",
      " max_pooling3d_8 (MaxPooling  (None, 15, 30, 30, 16)   0         \n",
      " 3D)                                                             \n",
      "                                                                 \n",
      " conv3d_9 (Conv3D)           (None, 15, 30, 30, 32)    13856     \n",
      "                                                                 \n",
      " batch_normalization_9 (Batc  (None, 15, 30, 30, 32)   128       \n",
      " hNormalization)                                                 \n",
      "                                                                 \n",
      " activation_9 (Activation)   (None, 15, 30, 30, 32)    0         \n",
      "                                                                 \n",
      " max_pooling3d_9 (MaxPooling  (None, 7, 15, 15, 32)    0         \n",
      " 3D)                                                             \n",
      "                                                                 \n",
      " conv3d_10 (Conv3D)          (None, 7, 15, 15, 64)     55360     \n",
      "                                                                 \n",
      " batch_normalization_10 (Bat  (None, 7, 15, 15, 64)    256       \n",
      " chNormalization)                                                \n",
      "                                                                 \n",
      " activation_10 (Activation)  (None, 7, 15, 15, 64)     0         \n",
      "                                                                 \n",
      " max_pooling3d_10 (MaxPoolin  (None, 3, 7, 7, 64)      0         \n",
      " g3D)                                                            \n",
      "                                                                 \n",
      " dropout_5 (Dropout)         (None, 3, 7, 7, 64)       0         \n",
      "                                                                 \n",
      " flatten_2 (Flatten)         (None, 9408)              0         \n",
      "                                                                 \n",
      " dense_5 (Dense)             (None, 512)               4817408   \n",
      "                                                                 \n",
      " dropout_6 (Dropout)         (None, 512)               0         \n",
      "                                                                 \n",
      " dense_6 (Dense)             (None, 5)                 2565      \n",
      "                                                                 \n",
      "=================================================================\n",
      "Total params: 4,893,797\n",
      "Trainable params: 4,893,557\n",
      "Non-trainable params: 240\n",
      "_________________________________________________________________\n",
      "None\n"
     ]
    }
   ],
   "source": [
    "optimiser = optimizers.Adam()#write your optimizer\n",
    "model3.compile(optimizer=optimiser, loss='categorical_crossentropy', metrics=['categorical_accuracy'])\n",
    "print (model3.summary())"
   ]
  },
  {
   "cell_type": "code",
   "execution_count": 28,
   "metadata": {},
   "outputs": [
    {
     "name": "stdout",
     "output_type": "stream",
     "text": [
      "Source path =  /home/datasets/Project_data/train ; batch size = 10\n",
      "Epoch 1/10\n",
      "65/67 [============================>.] - ETA: 3s - loss: 4.8490 - categorical_accuracy: 0.3431Batch:  67 Index: 10\n",
      "67/67 [==============================] - ETA: 0s - loss: 4.7886 - categorical_accuracy: 0.3394Source path =  /home/datasets/Project_data/val ; batch size = 10\n",
      "\n",
      "Epoch 00001: val_loss improved from inf to 1.48595, saving model to model_init_2022-11-1715_12_50.014709/model-00001-4.78864-0.33937-1.48595-0.40000.h5\n",
      "67/67 [==============================] - 151s 2s/step - loss: 4.7886 - categorical_accuracy: 0.3394 - val_loss: 1.4860 - val_categorical_accuracy: 0.4000 - lr: 0.0010\n",
      "Epoch 2/10\n",
      "67/67 [==============================] - ETA: 0s - loss: 1.3417 - categorical_accuracy: 0.4975\n",
      "Epoch 00002: val_loss improved from 1.48595 to 1.30057, saving model to model_init_2022-11-1715_12_50.014709/model-00002-1.34166-0.49751-1.30057-0.48000.h5\n",
      "67/67 [==============================] - 62s 936ms/step - loss: 1.3417 - categorical_accuracy: 0.4975 - val_loss: 1.3006 - val_categorical_accuracy: 0.4800 - lr: 0.0010\n",
      "Epoch 3/10\n",
      "67/67 [==============================] - ETA: 0s - loss: 1.1953 - categorical_accuracy: 0.5871\n",
      "Epoch 00003: val_loss did not improve from 1.30057\n",
      "67/67 [==============================] - 60s 906ms/step - loss: 1.1953 - categorical_accuracy: 0.5871 - val_loss: 1.3577 - val_categorical_accuracy: 0.3200 - lr: 0.0010\n",
      "Epoch 4/10\n",
      "67/67 [==============================] - ETA: 0s - loss: 0.9292 - categorical_accuracy: 0.6418\n",
      "Epoch 00004: val_loss did not improve from 1.30057\n",
      "\n",
      "Epoch 00004: ReduceLROnPlateau reducing learning rate to 0.0005000000237487257.\n",
      "67/67 [==============================] - 64s 974ms/step - loss: 0.9292 - categorical_accuracy: 0.6418 - val_loss: 1.8838 - val_categorical_accuracy: 0.3800 - lr: 0.0010\n",
      "Epoch 5/10\n",
      "67/67 [==============================] - ETA: 0s - loss: 0.8457 - categorical_accuracy: 0.7164\n",
      "Epoch 00005: val_loss improved from 1.30057 to 0.72350, saving model to model_init_2022-11-1715_12_50.014709/model-00005-0.84569-0.71642-0.72350-0.71000.h5\n",
      "67/67 [==============================] - 62s 934ms/step - loss: 0.8457 - categorical_accuracy: 0.7164 - val_loss: 0.7235 - val_categorical_accuracy: 0.7100 - lr: 5.0000e-04\n",
      "Epoch 6/10\n",
      "67/67 [==============================] - ETA: 0s - loss: 0.5599 - categorical_accuracy: 0.7861\n",
      "Epoch 00006: val_loss improved from 0.72350 to 0.49953, saving model to model_init_2022-11-1715_12_50.014709/model-00006-0.55993-0.78607-0.49953-0.81000.h5\n",
      "67/67 [==============================] - 63s 956ms/step - loss: 0.5599 - categorical_accuracy: 0.7861 - val_loss: 0.4995 - val_categorical_accuracy: 0.8100 - lr: 5.0000e-04\n",
      "Epoch 7/10\n",
      "67/67 [==============================] - ETA: 0s - loss: 0.4613 - categorical_accuracy: 0.8458\n",
      "Epoch 00007: val_loss did not improve from 0.49953\n",
      "67/67 [==============================] - 61s 924ms/step - loss: 0.4613 - categorical_accuracy: 0.8458 - val_loss: 0.6426 - val_categorical_accuracy: 0.8100 - lr: 5.0000e-04\n",
      "Epoch 8/10\n",
      "67/67 [==============================] - ETA: 0s - loss: 0.5571 - categorical_accuracy: 0.8060\n",
      "Epoch 00008: val_loss improved from 0.49953 to 0.44308, saving model to model_init_2022-11-1715_12_50.014709/model-00008-0.55708-0.80597-0.44308-0.82000.h5\n",
      "67/67 [==============================] - 58s 883ms/step - loss: 0.5571 - categorical_accuracy: 0.8060 - val_loss: 0.4431 - val_categorical_accuracy: 0.8200 - lr: 5.0000e-04\n",
      "Epoch 9/10\n",
      "67/67 [==============================] - ETA: 0s - loss: 0.4603 - categorical_accuracy: 0.8259\n",
      "Epoch 00009: val_loss did not improve from 0.44308\n",
      "67/67 [==============================] - 62s 936ms/step - loss: 0.4603 - categorical_accuracy: 0.8259 - val_loss: 0.6763 - val_categorical_accuracy: 0.7500 - lr: 5.0000e-04\n",
      "Epoch 10/10\n",
      "67/67 [==============================] - ETA: 0s - loss: 0.4948 - categorical_accuracy: 0.8109\n",
      "Epoch 00010: val_loss improved from 0.44308 to 0.38957, saving model to model_init_2022-11-1715_12_50.014709/model-00010-0.49484-0.81095-0.38957-0.90000.h5\n",
      "67/67 [==============================] - 62s 936ms/step - loss: 0.4948 - categorical_accuracy: 0.8109 - val_loss: 0.3896 - val_categorical_accuracy: 0.9000 - lr: 5.0000e-04\n"
     ]
    }
   ],
   "source": [
    "history3 = model3.fit(train_generator, steps_per_epoch=steps_per_epoch, epochs=num_epochs, verbose=1, \n",
    "                    callbacks=callbacks_list, validation_data=val_generator, \n",
    "                    validation_steps=validation_steps, class_weight=None, workers=1, initial_epoch=0)"
   ]
  },
  {
   "cell_type": "code",
   "execution_count": 29,
   "metadata": {},
   "outputs": [
    {
     "data": {
      "image/png": "[encoded data removed]",
      "text/plain": [
       "<Figure size 1080x288 with 2 Axes>"
      ]
     },
     "metadata": {
      "needs_background": "light"
     },
     "output_type": "display_data"
    }
   ],
   "source": [
    "plot(history3)"
   ]
  },
  {
   "cell_type": "markdown",
   "metadata": {},
   "source": [
    "#### The model looks very stable; We can try to increase the accuracy\n",
    "___"
   ]
  },
  {
   "cell_type": "markdown",
   "metadata": {},
   "source": [
    "### Model 4:\n",
    "#### Accuracies are improving, Model looks more stable towards the end of 10 epochs\n",
    "#### We can try to:\n",
    "##### 1. Increase batch size, and number of epochs"
   ]
  },
  {
   "cell_type": "code",
   "execution_count": 30,
   "metadata": {},
   "outputs": [],
   "source": [
    "model4 = Sequential()\n",
    "\n",
    "model4.add(Conv3D(8, kernel_size = (3,3,3),padding='same', input_shape=(30,120,120,3)))\n",
    "model4.add(BatchNormalization())\n",
    "model4.add(Activation(\"relu\"))\n",
    "model4.add(MaxPooling3D(pool_size=(1, 2, 2)))\n",
    "\n",
    "model4.add(Conv3D(16, kernel_size = (3,3,3),padding='same'))\n",
    "model4.add(BatchNormalization())\n",
    "model4.add(Activation(\"relu\"))\n",
    "model4.add(MaxPooling3D(pool_size=(2, 2, 2)))\n",
    "\n",
    "model4.add(Conv3D(32, kernel_size = (3,3,3),padding='same'))\n",
    "model4.add(BatchNormalization())\n",
    "model4.add(Activation(\"relu\"))\n",
    "model4.add(MaxPooling3D(pool_size=(2, 2, 2)))\n",
    "\n",
    "model4.add(Conv3D(64, kernel_size = (3,3,3),padding='same'))\n",
    "model4.add(BatchNormalization())\n",
    "model4.add(Activation(\"relu\"))\n",
    "model4.add(MaxPooling3D(pool_size=(2, 2, 2)))\n",
    "model4.add(Dropout(0.2))\n",
    "\n",
    "model4.add(Flatten())\n",
    "\n",
    "model4.add(Dense(512, activation='relu'))\n",
    "model4.add(Dropout(0.25))\n",
    "\n",
    "# 5 gestures 5 classes\n",
    "model4.add(Dense(5, activation = 'softmax'))"
   ]
  },
  {
   "cell_type": "code",
   "execution_count": 31,
   "metadata": {},
   "outputs": [
    {
     "name": "stdout",
     "output_type": "stream",
     "text": [
      "Model: \"sequential_3\"\n",
      "_________________________________________________________________\n",
      " Layer (type)                Output Shape              Param #   \n",
      "=================================================================\n",
      " conv3d_11 (Conv3D)          (None, 30, 120, 120, 8)   656       \n",
      "                                                                 \n",
      " batch_normalization_11 (Bat  (None, 30, 120, 120, 8)  32        \n",
      " chNormalization)                                                \n",
      "                                                                 \n",
      " activation_11 (Activation)  (None, 30, 120, 120, 8)   0         \n",
      "                                                                 \n",
      " max_pooling3d_11 (MaxPoolin  (None, 30, 60, 60, 8)    0         \n",
      " g3D)                                                            \n",
      "                                                                 \n",
      " conv3d_12 (Conv3D)          (None, 30, 60, 60, 16)    3472      \n",
      "                                                                 \n",
      " batch_normalization_12 (Bat  (None, 30, 60, 60, 16)   64        \n",
      " chNormalization)                                                \n",
      "                                                                 \n",
      " activation_12 (Activation)  (None, 30, 60, 60, 16)    0         \n",
      "                                                                 \n",
      " max_pooling3d_12 (MaxPoolin  (None, 15, 30, 30, 16)   0         \n",
      " g3D)                                                            \n",
      "                                                                 \n",
      " conv3d_13 (Conv3D)          (None, 15, 30, 30, 32)    13856     \n",
      "                                                                 \n",
      " batch_normalization_13 (Bat  (None, 15, 30, 30, 32)   128       \n",
      " chNormalization)                                                \n",
      "                                                                 \n",
      " activation_13 (Activation)  (None, 15, 30, 30, 32)    0         \n",
      "                                                                 \n",
      " max_pooling3d_13 (MaxPoolin  (None, 7, 15, 15, 32)    0         \n",
      " g3D)                                                            \n",
      "                                                                 \n",
      " conv3d_14 (Conv3D)          (None, 7, 15, 15, 64)     55360     \n",
      "                                                                 \n",
      " batch_normalization_14 (Bat  (None, 7, 15, 15, 64)    256       \n",
      " chNormalization)                                                \n",
      "                                                                 \n",
      " activation_14 (Activation)  (None, 7, 15, 15, 64)     0         \n",
      "                                                                 \n",
      " max_pooling3d_14 (MaxPoolin  (None, 3, 7, 7, 64)      0         \n",
      " g3D)                                                            \n",
      "                                                                 \n",
      " dropout_7 (Dropout)         (None, 3, 7, 7, 64)       0         \n",
      "                                                                 \n",
      " flatten_3 (Flatten)         (None, 9408)              0         \n",
      "                                                                 \n",
      " dense_7 (Dense)             (None, 512)               4817408   \n",
      "                                                                 \n",
      " dropout_8 (Dropout)         (None, 512)               0         \n",
      "                                                                 \n",
      " dense_8 (Dense)             (None, 5)                 2565      \n",
      "                                                                 \n",
      "=================================================================\n",
      "Total params: 4,893,797\n",
      "Trainable params: 4,893,557\n",
      "Non-trainable params: 240\n",
      "_________________________________________________________________\n",
      "None\n"
     ]
    }
   ],
   "source": [
    "optimiser = optimizers.Adam()#write your optimizer\n",
    "model4.compile(optimizer=optimiser, loss='categorical_crossentropy', metrics=['categorical_accuracy'])\n",
    "print (model4.summary())"
   ]
  },
  {
   "cell_type": "code",
   "execution_count": 32,
   "metadata": {},
   "outputs": [],
   "source": [
    "batch_size = 10\n",
    "train_generator = generator(train_path, train_doc, batch_size)\n",
    "val_generator = generator(val_path, val_doc, batch_size)"
   ]
  },
  {
   "cell_type": "code",
   "execution_count": 33,
   "metadata": {},
   "outputs": [
    {
     "name": "stdout",
     "output_type": "stream",
     "text": [
      "WARNING:tensorflow:`period` argument is deprecated. Please use `save_freq` to specify the frequency in number of batches seen.\n"
     ]
    }
   ],
   "source": [
    "model_name = 'model_init' + '_' + str(curr_dt_time).replace(' ','').replace(':','_') + '/'\n",
    "    \n",
    "if not os.path.exists(model_name):\n",
    "    os.mkdir(model_name)\n",
    "        \n",
    "filepath = model_name + 'model-{epoch:05d}-{loss:.5f}-{categorical_accuracy:.5f}-{val_loss:.5f}-{val_categorical_accuracy:.5f}.h5'\n",
    "\n",
    "checkpoint = ModelCheckpoint(filepath, monitor='val_loss', verbose=1, save_best_only=True, save_weights_only=False, mode='auto', period=1)\n",
    "\n",
    "LR = ReduceLROnPlateau(monitor='val_loss', factor=0.5, patience=2, cooldown=1, verbose=1)# write the REducelronplateau code here\n",
    "callbacks_list = [checkpoint, LR]"
   ]
  },
  {
   "cell_type": "code",
   "execution_count": 34,
   "metadata": {},
   "outputs": [],
   "source": [
    "if (num_train_sequences%batch_size) == 0:\n",
    "    steps_per_epoch = int(num_train_sequences/batch_size)\n",
    "else:\n",
    "    steps_per_epoch = (num_train_sequences//batch_size) + 1\n",
    "\n",
    "if (num_val_sequences%batch_size) == 0:\n",
    "    validation_steps = int(num_val_sequences/batch_size)\n",
    "else:\n",
    "    validation_steps = (num_val_sequences//batch_size) + 1"
   ]
  },
  {
   "cell_type": "code",
   "execution_count": 35,
   "metadata": {},
   "outputs": [
    {
     "name": "stdout",
     "output_type": "stream",
     "text": [
      "Source path =  /home/datasets/Project_data/train ; batch size = 10\n",
      "Epoch 1/20\n",
      "65/67 [============================>.] - ETA: 3s - loss: 4.6628 - categorical_accuracy: 0.3908Batch:  67 Index: 10\n",
      "67/67 [==============================] - ETA: 0s - loss: 4.6049 - categorical_accuracy: 0.3937Source path =  /home/datasets/Project_data/val ; batch size = 10\n",
      "\n",
      "Epoch 00001: val_loss improved from inf to 1.73550, saving model to model_init_2022-11-1715_12_50.014709/model-00001-4.60489-0.39367-1.73550-0.36000.h5\n",
      "67/67 [==============================] - 152s 2s/step - loss: 4.6049 - categorical_accuracy: 0.3937 - val_loss: 1.7355 - val_categorical_accuracy: 0.3600 - lr: 0.0010\n",
      "Epoch 2/20\n",
      "67/67 [==============================] - ETA: 0s - loss: 1.6319 - categorical_accuracy: 0.4378\n",
      "Epoch 00002: val_loss did not improve from 1.73550\n",
      "67/67 [==============================] - 60s 916ms/step - loss: 1.6319 - categorical_accuracy: 0.4378 - val_loss: 1.7448 - val_categorical_accuracy: 0.2200 - lr: 0.0010\n",
      "Epoch 3/20\n",
      "67/67 [==============================] - ETA: 0s - loss: 1.1526 - categorical_accuracy: 0.5124\n",
      "Epoch 00003: val_loss did not improve from 1.73550\n",
      "\n",
      "Epoch 00003: ReduceLROnPlateau reducing learning rate to 0.0005000000237487257.\n",
      "67/67 [==============================] - 64s 964ms/step - loss: 1.1526 - categorical_accuracy: 0.5124 - val_loss: 2.1073 - val_categorical_accuracy: 0.2400 - lr: 0.0010\n",
      "Epoch 4/20\n",
      "67/67 [==============================] - ETA: 0s - loss: 0.9133 - categorical_accuracy: 0.6269\n",
      "Epoch 00004: val_loss improved from 1.73550 to 1.62732, saving model to model_init_2022-11-1715_12_50.014709/model-00004-0.91335-0.62687-1.62732-0.40000.h5\n",
      "67/67 [==============================] - 61s 925ms/step - loss: 0.9133 - categorical_accuracy: 0.6269 - val_loss: 1.6273 - val_categorical_accuracy: 0.4000 - lr: 5.0000e-04\n",
      "Epoch 5/20\n",
      "67/67 [==============================] - ETA: 0s - loss: 0.6885 - categorical_accuracy: 0.7363\n",
      "Epoch 00005: val_loss improved from 1.62732 to 0.79759, saving model to model_init_2022-11-1715_12_50.014709/model-00005-0.68851-0.73632-0.79759-0.70000.h5\n",
      "67/67 [==============================] - 64s 967ms/step - loss: 0.6885 - categorical_accuracy: 0.7363 - val_loss: 0.7976 - val_categorical_accuracy: 0.7000 - lr: 5.0000e-04\n",
      "Epoch 6/20\n",
      "67/67 [==============================] - ETA: 0s - loss: 0.7073 - categorical_accuracy: 0.7114\n",
      "Epoch 00006: val_loss did not improve from 0.79759\n",
      "67/67 [==============================] - 61s 920ms/step - loss: 0.7073 - categorical_accuracy: 0.7114 - val_loss: 1.1243 - val_categorical_accuracy: 0.5300 - lr: 5.0000e-04\n",
      "Epoch 7/20\n",
      "67/67 [==============================] - ETA: 0s - loss: 0.6227 - categorical_accuracy: 0.7562\n",
      "Epoch 00007: val_loss improved from 0.79759 to 0.74106, saving model to model_init_2022-11-1715_12_50.014709/model-00007-0.62267-0.75622-0.74106-0.69000.h5\n",
      "67/67 [==============================] - 62s 943ms/step - loss: 0.6227 - categorical_accuracy: 0.7562 - val_loss: 0.7411 - val_categorical_accuracy: 0.6900 - lr: 5.0000e-04\n",
      "Epoch 8/20\n",
      "67/67 [==============================] - ETA: 0s - loss: 0.5462 - categorical_accuracy: 0.7512\n",
      "Epoch 00008: val_loss improved from 0.74106 to 0.59420, saving model to model_init_2022-11-1715_12_50.014709/model-00008-0.54615-0.75124-0.59420-0.81000.h5\n",
      "67/67 [==============================] - 60s 911ms/step - loss: 0.5462 - categorical_accuracy: 0.7512 - val_loss: 0.5942 - val_categorical_accuracy: 0.8100 - lr: 5.0000e-04\n",
      "Epoch 9/20\n",
      "67/67 [==============================] - ETA: 0s - loss: 0.4653 - categorical_accuracy: 0.8060\n",
      "Epoch 00009: val_loss improved from 0.59420 to 0.51316, saving model to model_init_2022-11-1715_12_50.014709/model-00009-0.46528-0.80597-0.51316-0.84000.h5\n",
      "67/67 [==============================] - 60s 909ms/step - loss: 0.4653 - categorical_accuracy: 0.8060 - val_loss: 0.5132 - val_categorical_accuracy: 0.8400 - lr: 5.0000e-04\n",
      "Epoch 10/20\n",
      "67/67 [==============================] - ETA: 0s - loss: 0.5274 - categorical_accuracy: 0.7910\n",
      "Epoch 00010: val_loss did not improve from 0.51316\n",
      "67/67 [==============================] - 62s 943ms/step - loss: 0.5274 - categorical_accuracy: 0.7910 - val_loss: 0.6789 - val_categorical_accuracy: 0.7400 - lr: 5.0000e-04\n",
      "Epoch 11/20\n",
      "67/67 [==============================] - ETA: 0s - loss: 0.6156 - categorical_accuracy: 0.7960\n",
      "Epoch 00011: val_loss improved from 0.51316 to 0.50106, saving model to model_init_2022-11-1715_12_50.014709/model-00011-0.61556-0.79602-0.50106-0.85000.h5\n",
      "67/67 [==============================] - 62s 945ms/step - loss: 0.6156 - categorical_accuracy: 0.7960 - val_loss: 0.5011 - val_categorical_accuracy: 0.8500 - lr: 5.0000e-04\n",
      "Epoch 12/20\n",
      "67/67 [==============================] - ETA: 0s - loss: 0.3881 - categorical_accuracy: 0.8209\n",
      "Epoch 00012: val_loss did not improve from 0.50106\n",
      "67/67 [==============================] - 63s 953ms/step - loss: 0.3881 - categorical_accuracy: 0.8209 - val_loss: 0.5080 - val_categorical_accuracy: 0.8100 - lr: 5.0000e-04\n",
      "Epoch 13/20\n",
      "67/67 [==============================] - ETA: 0s - loss: 0.3460 - categorical_accuracy: 0.8806\n",
      "Epoch 00013: val_loss did not improve from 0.50106\n",
      "\n",
      "Epoch 00013: ReduceLROnPlateau reducing learning rate to 0.0002500000118743628.\n",
      "67/67 [==============================] - 59s 897ms/step - loss: 0.3460 - categorical_accuracy: 0.8806 - val_loss: 0.5363 - val_categorical_accuracy: 0.8400 - lr: 5.0000e-04\n",
      "Epoch 14/20\n",
      "67/67 [==============================] - ETA: 0s - loss: 0.3810 - categorical_accuracy: 0.8358\n",
      "Epoch 00014: val_loss improved from 0.50106 to 0.39934, saving model to model_init_2022-11-1715_12_50.014709/model-00014-0.38095-0.83582-0.39934-0.86000.h5\n",
      "67/67 [==============================] - 61s 928ms/step - loss: 0.3810 - categorical_accuracy: 0.8358 - val_loss: 0.3993 - val_categorical_accuracy: 0.8600 - lr: 2.5000e-04\n",
      "Epoch 15/20\n",
      "67/67 [==============================] - ETA: 0s - loss: 0.1765 - categorical_accuracy: 0.9502\n",
      "Epoch 00015: val_loss did not improve from 0.39934\n",
      "67/67 [==============================] - 63s 959ms/step - loss: 0.1765 - categorical_accuracy: 0.9502 - val_loss: 0.4427 - val_categorical_accuracy: 0.8800 - lr: 2.5000e-04\n",
      "Epoch 16/20\n",
      "67/67 [==============================] - ETA: 0s - loss: 0.2333 - categorical_accuracy: 0.9055\n",
      "Epoch 00016: val_loss did not improve from 0.39934\n",
      "\n",
      "Epoch 00016: ReduceLROnPlateau reducing learning rate to 0.0001250000059371814.\n",
      "67/67 [==============================] - 63s 956ms/step - loss: 0.2333 - categorical_accuracy: 0.9055 - val_loss: 0.5356 - val_categorical_accuracy: 0.8600 - lr: 2.5000e-04\n",
      "Epoch 17/20\n",
      "67/67 [==============================] - ETA: 0s - loss: 0.1898 - categorical_accuracy: 0.9254\n",
      "Epoch 00017: val_loss improved from 0.39934 to 0.25942, saving model to model_init_2022-11-1715_12_50.014709/model-00017-0.18978-0.92537-0.25942-0.91000.h5\n",
      "67/67 [==============================] - 57s 870ms/step - loss: 0.1898 - categorical_accuracy: 0.9254 - val_loss: 0.2594 - val_categorical_accuracy: 0.9100 - lr: 1.2500e-04\n",
      "Epoch 18/20\n",
      "67/67 [==============================] - ETA: 0s - loss: 0.1608 - categorical_accuracy: 0.9403\n",
      "Epoch 00018: val_loss did not improve from 0.25942\n",
      "67/67 [==============================] - 62s 935ms/step - loss: 0.1608 - categorical_accuracy: 0.9403 - val_loss: 0.4252 - val_categorical_accuracy: 0.8900 - lr: 1.2500e-04\n",
      "Epoch 19/20\n",
      "67/67 [==============================] - ETA: 0s - loss: 0.1422 - categorical_accuracy: 0.9652\n",
      "Epoch 00019: val_loss did not improve from 0.25942\n",
      "\n",
      "Epoch 00019: ReduceLROnPlateau reducing learning rate to 6.25000029685907e-05.\n",
      "67/67 [==============================] - 64s 972ms/step - loss: 0.1422 - categorical_accuracy: 0.9652 - val_loss: 0.3456 - val_categorical_accuracy: 0.8900 - lr: 1.2500e-04\n",
      "Epoch 20/20\n",
      "67/67 [==============================] - ETA: 0s - loss: 0.1258 - categorical_accuracy: 0.9701\n",
      "Epoch 00020: val_loss did not improve from 0.25942\n",
      "67/67 [==============================] - 61s 928ms/step - loss: 0.1258 - categorical_accuracy: 0.9701 - val_loss: 0.2640 - val_categorical_accuracy: 0.8900 - lr: 6.2500e-05\n"
     ]
    }
   ],
   "source": [
    "num_epochs = 20\n",
    "history4 = model4.fit(train_generator, steps_per_epoch=steps_per_epoch, epochs=num_epochs, verbose=1, \n",
    "                    callbacks=callbacks_list, validation_data=val_generator, \n",
    "                    validation_steps=validation_steps, class_weight=None, workers=1, initial_epoch=0)"
   ]
  },
  {
   "cell_type": "code",
   "execution_count": 36,
   "metadata": {},
   "outputs": [
    {
     "data": {
      "image/png": "[encoded data removed]",
      "text/plain": [
       "<Figure size 1080x288 with 2 Axes>"
      ]
     },
     "metadata": {
      "needs_background": "light"
     },
     "output_type": "display_data"
    }
   ],
   "source": [
    "plot(history4)"
   ]
  },
  {
   "cell_type": "code",
   "execution_count": null,
   "metadata": {},
   "outputs": [],
   "source": []
  },
  {
   "cell_type": "markdown",
   "metadata": {},
   "source": [
    "___"
   ]
  },
  {
   "cell_type": "markdown",
   "metadata": {},
   "source": [
    "___"
   ]
  },
  {
   "cell_type": "markdown",
   "metadata": {},
   "source": [
    "## Model Method 2: CNN + RNN"
   ]
  },
  {
   "cell_type": "code",
   "execution_count": 84,
   "metadata": {},
   "outputs": [],
   "source": [
    "from keras.models import Sequential, Model\n",
    "from keras.layers import Dense, GRU, Flatten, TimeDistributed, Flatten, BatchNormalization, Activation\n",
    "from keras.layers.convolutional import Conv3D, MaxPooling3D\n",
    "from keras.layers import Dropout\n",
    "from keras.callbacks import ModelCheckpoint, ReduceLROnPlateau\n",
    "import tensorflow\n",
    "import keras\n",
    "from keras import optimizers\n",
    "#from tensorflow.keras import optimizers"
   ]
  },
  {
   "cell_type": "code",
   "execution_count": 85,
   "metadata": {},
   "outputs": [],
   "source": [
    "batch_size = 10\n",
    "y = 128 # changing image crop size as mobilenet application expects size to be one of [128, 160, 192, 224]\n",
    "z = 128"
   ]
  },
  {
   "cell_type": "code",
   "execution_count": 86,
   "metadata": {},
   "outputs": [],
   "source": [
    "mn = keras.applications.mobilenet.MobileNet(include_top = False, weights='imagenet',input_shape=(128, 128, 3))"
   ]
  },
  {
   "cell_type": "code",
   "execution_count": 87,
   "metadata": {},
   "outputs": [],
   "source": [
    "model5 = Sequential()\n",
    "\n",
    "model5.add(TimeDistributed(mn, input_shape = (30,128,128,3)))\n",
    "\n",
    "model5.add(TimeDistributed(Flatten()))\n",
    "\n",
    "model5.add(GRU(64,return_sequences=False))\n",
    "\n",
    "model5.add(Dense(256))\n",
    "model5.add(Activation(\"relu\"))\n",
    "model5.add(Dropout(0.2))\n",
    "\n",
    "model5.add(Dense(5, activation = 'softmax'))"
   ]
  },
  {
   "cell_type": "code",
   "execution_count": 88,
   "metadata": {},
   "outputs": [
    {
     "name": "stdout",
     "output_type": "stream",
     "text": [
      "Model: \"sequential_9\"\n",
      "_________________________________________________________________\n",
      " Layer (type)                Output Shape              Param #   \n",
      "=================================================================\n",
      " time_distributed_15 (TimeDi  (None, 30, 4, 4, 1024)   3228864   \n",
      " stributed)                                                      \n",
      "                                                                 \n",
      " time_distributed_16 (TimeDi  (None, 30, 16384)        0         \n",
      " stributed)                                                      \n",
      "                                                                 \n",
      " gru_6 (GRU)                 (None, 64)                3158400   \n",
      "                                                                 \n",
      " dense_12 (Dense)            (None, 256)               16640     \n",
      "                                                                 \n",
      " activation_6 (Activation)   (None, 256)               0         \n",
      "                                                                 \n",
      " dropout_6 (Dropout)         (None, 256)               0         \n",
      "                                                                 \n",
      " dense_13 (Dense)            (None, 5)                 1285      \n",
      "                                                                 \n",
      "=================================================================\n",
      "Total params: 6,405,189\n",
      "Trainable params: 6,383,301\n",
      "Non-trainable params: 21,888\n",
      "_________________________________________________________________\n",
      "None\n"
     ]
    }
   ],
   "source": [
    "#optimiser = optimizers.Adam() #write your optimizer\n",
    "\n",
    "opt = tensorflow.keras.optimizers.SGD(lr=0.001, decay=0.00001, momentum=0.8, nesterov=True)\n",
    "model5.compile(optimizer=opt, loss='categorical_crossentropy', metrics=['categorical_accuracy'])\n",
    "print (model5.summary())"
   ]
  },
  {
   "cell_type": "code",
   "execution_count": 89,
   "metadata": {},
   "outputs": [],
   "source": [
    "train_generator = generator(train_path, train_doc, batch_size)\n",
    "val_generator = generator(val_path, val_doc, batch_size)"
   ]
  },
  {
   "cell_type": "code",
   "execution_count": 90,
   "metadata": {},
   "outputs": [
    {
     "name": "stdout",
     "output_type": "stream",
     "text": [
      "WARNING:tensorflow:`period` argument is deprecated. Please use `save_freq` to specify the frequency in number of batches seen.\n"
     ]
    }
   ],
   "source": [
    "model_name = 'model_init' + '_' + str(curr_dt_time).replace(' ','').replace(':','_') + '/'\n",
    "    \n",
    "if not os.path.exists(model_name):\n",
    "    os.mkdir(model_name)\n",
    "        \n",
    "filepath = model_name + 'model-{epoch:05d}-{loss:.5f}-{categorical_accuracy:.5f}-{val_loss:.5f}-{val_categorical_accuracy:.5f}.h5'\n",
    "\n",
    "checkpoint = ModelCheckpoint(filepath, monitor='val_loss', verbose=1, save_best_only=True, save_weights_only=False, mode='auto', period=1)\n",
    "\n",
    "LR = ReduceLROnPlateau(monitor='val_loss', factor=0.5, patience=2, cooldown=1, verbose=1) # write the REducelronplateau code here\n",
    "callbacks_list = [checkpoint, LR]"
   ]
  },
  {
   "cell_type": "code",
   "execution_count": 91,
   "metadata": {},
   "outputs": [],
   "source": [
    "if (num_train_sequences%batch_size) == 0:\n",
    "    steps_per_epoch = int(num_train_sequences/batch_size)\n",
    "else:\n",
    "    steps_per_epoch = (num_train_sequences//batch_size) + 1\n",
    "\n",
    "if (num_val_sequences%batch_size) == 0:\n",
    "    validation_steps = int(num_val_sequences/batch_size)\n",
    "else:\n",
    "    validation_steps = (num_val_sequences//batch_size) + 1"
   ]
  },
  {
   "cell_type": "code",
   "execution_count": 92,
   "metadata": {},
   "outputs": [
    {
     "name": "stdout",
     "output_type": "stream",
     "text": [
      "Source path =  /home/datasets/Project_data/train ; batch size = 10\n",
      "Epoch 1/15\n",
      "65/67 [============================>.] - ETA: 4s - loss: 1.3684 - categorical_accuracy: 0.4646Batch:  67 Index: 10\n",
      "67/67 [==============================] - ETA: 0s - loss: 1.3582 - categorical_accuracy: 0.4706Source path =  /home/datasets/Project_data/val ; batch size = 10\n",
      "\n",
      "Epoch 00001: val_loss improved from inf to 0.95911, saving model to model_init_2022-11-1716_42_37.064940/model-00001-1.35817-0.47059-0.95911-0.66000.h5\n",
      "67/67 [==============================] - 167s 2s/step - loss: 1.3582 - categorical_accuracy: 0.4706 - val_loss: 0.9591 - val_categorical_accuracy: 0.6600 - lr: 0.0010\n",
      "Epoch 2/15\n",
      "67/67 [==============================] - ETA: 0s - loss: 0.7918 - categorical_accuracy: 0.7711\n",
      "Epoch 00002: val_loss improved from 0.95911 to 0.62647, saving model to model_init_2022-11-1716_42_37.064940/model-00002-0.79183-0.77114-0.62647-0.81000.h5\n",
      "67/67 [==============================] - 69s 1s/step - loss: 0.7918 - categorical_accuracy: 0.7711 - val_loss: 0.6265 - val_categorical_accuracy: 0.8100 - lr: 0.0010\n",
      "Epoch 3/15\n",
      "67/67 [==============================] - ETA: 0s - loss: 0.7122 - categorical_accuracy: 0.7910\n",
      "Epoch 00003: val_loss improved from 0.62647 to 0.59401, saving model to model_init_2022-11-1716_42_37.064940/model-00003-0.71217-0.79104-0.59401-0.82000.h5\n",
      "67/67 [==============================] - 65s 990ms/step - loss: 0.7122 - categorical_accuracy: 0.7910 - val_loss: 0.5940 - val_categorical_accuracy: 0.8200 - lr: 0.0010\n",
      "Epoch 4/15\n",
      "67/67 [==============================] - ETA: 0s - loss: 0.5369 - categorical_accuracy: 0.8458\n",
      "Epoch 00004: val_loss improved from 0.59401 to 0.49813, saving model to model_init_2022-11-1716_42_37.064940/model-00004-0.53692-0.84577-0.49813-0.82000.h5\n",
      "67/67 [==============================] - 67s 1s/step - loss: 0.5369 - categorical_accuracy: 0.8458 - val_loss: 0.4981 - val_categorical_accuracy: 0.8200 - lr: 0.0010\n",
      "Epoch 5/15\n",
      "67/67 [==============================] - ETA: 0s - loss: 0.5093 - categorical_accuracy: 0.8259\n",
      "Epoch 00005: val_loss improved from 0.49813 to 0.42046, saving model to model_init_2022-11-1716_42_37.064940/model-00005-0.50931-0.82587-0.42046-0.81000.h5\n",
      "67/67 [==============================] - 69s 1s/step - loss: 0.5093 - categorical_accuracy: 0.8259 - val_loss: 0.4205 - val_categorical_accuracy: 0.8100 - lr: 0.0010\n",
      "Epoch 6/15\n",
      "67/67 [==============================] - ETA: 0s - loss: 0.2700 - categorical_accuracy: 0.9403\n",
      "Epoch 00006: val_loss improved from 0.42046 to 0.32319, saving model to model_init_2022-11-1716_42_37.064940/model-00006-0.26996-0.94030-0.32319-0.88000.h5\n",
      "67/67 [==============================] - 66s 1s/step - loss: 0.2700 - categorical_accuracy: 0.9403 - val_loss: 0.3232 - val_categorical_accuracy: 0.8800 - lr: 0.0010\n",
      "Epoch 7/15\n",
      "67/67 [==============================] - ETA: 0s - loss: 0.2392 - categorical_accuracy: 0.9453\n",
      "Epoch 00007: val_loss improved from 0.32319 to 0.26149, saving model to model_init_2022-11-1716_42_37.064940/model-00007-0.23921-0.94527-0.26149-0.93000.h5\n",
      "67/67 [==============================] - 66s 996ms/step - loss: 0.2392 - categorical_accuracy: 0.9453 - val_loss: 0.2615 - val_categorical_accuracy: 0.9300 - lr: 0.0010\n",
      "Epoch 8/15\n",
      "67/67 [==============================] - ETA: 0s - loss: 0.1950 - categorical_accuracy: 0.9303\n",
      "Epoch 00008: val_loss did not improve from 0.26149\n",
      "67/67 [==============================] - 67s 1s/step - loss: 0.1950 - categorical_accuracy: 0.9303 - val_loss: 0.2644 - val_categorical_accuracy: 0.9000 - lr: 0.0010\n",
      "Epoch 9/15\n",
      "67/67 [==============================] - ETA: 0s - loss: 0.1340 - categorical_accuracy: 0.9602\n",
      "Epoch 00009: val_loss improved from 0.26149 to 0.24950, saving model to model_init_2022-11-1716_42_37.064940/model-00009-0.13405-0.96020-0.24950-0.91000.h5\n",
      "67/67 [==============================] - 66s 1s/step - loss: 0.1340 - categorical_accuracy: 0.9602 - val_loss: 0.2495 - val_categorical_accuracy: 0.9100 - lr: 0.0010\n",
      "Epoch 10/15\n",
      "67/67 [==============================] - ETA: 0s - loss: 0.1312 - categorical_accuracy: 0.9602\n",
      "Epoch 00010: val_loss did not improve from 0.24950\n",
      "67/67 [==============================] - 67s 1s/step - loss: 0.1312 - categorical_accuracy: 0.9602 - val_loss: 0.2594 - val_categorical_accuracy: 0.9000 - lr: 0.0010\n",
      "Epoch 11/15\n",
      "67/67 [==============================] - ETA: 0s - loss: 0.1088 - categorical_accuracy: 0.9652\n",
      "Epoch 00011: val_loss did not improve from 0.24950\n",
      "\n",
      "Epoch 00011: ReduceLROnPlateau reducing learning rate to 0.0005000000237487257.\n",
      "67/67 [==============================] - 69s 1s/step - loss: 0.1088 - categorical_accuracy: 0.9652 - val_loss: 0.2681 - val_categorical_accuracy: 0.9200 - lr: 0.0010\n",
      "Epoch 12/15\n",
      "67/67 [==============================] - ETA: 0s - loss: 0.0530 - categorical_accuracy: 0.9950\n",
      "Epoch 00012: val_loss improved from 0.24950 to 0.22744, saving model to model_init_2022-11-1716_42_37.064940/model-00012-0.05296-0.99502-0.22744-0.90000.h5\n",
      "67/67 [==============================] - 68s 1s/step - loss: 0.0530 - categorical_accuracy: 0.9950 - val_loss: 0.2274 - val_categorical_accuracy: 0.9000 - lr: 5.0000e-04\n",
      "Epoch 13/15\n",
      "67/67 [==============================] - ETA: 0s - loss: 0.0794 - categorical_accuracy: 0.9851\n",
      "Epoch 00013: val_loss improved from 0.22744 to 0.18251, saving model to model_init_2022-11-1716_42_37.064940/model-00013-0.07942-0.98507-0.18251-0.93000.h5\n",
      "67/67 [==============================] - 67s 1s/step - loss: 0.0794 - categorical_accuracy: 0.9851 - val_loss: 0.1825 - val_categorical_accuracy: 0.9300 - lr: 5.0000e-04\n",
      "Epoch 14/15\n",
      "67/67 [==============================] - ETA: 0s - loss: 0.0576 - categorical_accuracy: 0.9851\n",
      "Epoch 00014: val_loss did not improve from 0.18251\n",
      "67/67 [==============================] - 68s 1s/step - loss: 0.0576 - categorical_accuracy: 0.9851 - val_loss: 0.2052 - val_categorical_accuracy: 0.9300 - lr: 5.0000e-04\n",
      "Epoch 15/15\n",
      "67/67 [==============================] - ETA: 0s - loss: 0.0354 - categorical_accuracy: 1.0000\n",
      "Epoch 00015: val_loss did not improve from 0.18251\n",
      "\n",
      "Epoch 00015: ReduceLROnPlateau reducing learning rate to 0.0002500000118743628.\n",
      "67/67 [==============================] - 67s 1s/step - loss: 0.0354 - categorical_accuracy: 1.0000 - val_loss: 0.2407 - val_categorical_accuracy: 0.9200 - lr: 5.0000e-04\n"
     ]
    }
   ],
   "source": [
    "num_epochs = 15\n",
    "history5 = model5.fit(train_generator, steps_per_epoch=steps_per_epoch, epochs=num_epochs, verbose=1, \n",
    "                    callbacks=callbacks_list, validation_data=val_generator, \n",
    "                    validation_steps=validation_steps, class_weight=None, workers=1, initial_epoch=0)"
   ]
  },
  {
   "cell_type": "code",
   "execution_count": 93,
   "metadata": {},
   "outputs": [
    {
     "data": {
      "image/png": "[encoded data removed]",
      "text/plain": [
       "<Figure size 1080x288 with 2 Axes>"
      ]
     },
     "metadata": {
      "needs_background": "light"
     },
     "output_type": "display_data"
    }
   ],
   "source": [
    "plot(history5)"
   ]
  },
  {
   "cell_type": "markdown",
   "metadata": {},
   "source": [
    "___\n",
    "Conclusion:\n",
    "### We found that the model that used transfer learning for CNN and stacked with RNN performed better"
   ]
  },
  {
   "cell_type": "code",
   "execution_count": null,
   "metadata": {},
   "outputs": [],
   "source": []
  }
 ],
 "metadata": {
  "kernelspec": {
   "display_name": "Python 3 (ipykernel)",
   "language": "python",
   "name": "python3"
  },
  "language_info": {
   "codemirror_mode": {
    "name": "ipython",
    "version": 3
   },
   "file_extension": ".py",
   "mimetype": "text/x-python",
   "name": "python",
   "nbconvert_exporter": "python",
   "pygments_lexer": "ipython3",
   "version": "3.8.10"
  }
 },
 "nbformat": 4,
 "nbformat_minor": 4
}
